{
 "cells": [
  {
   "cell_type": "code",
   "execution_count": 14,
   "id": "1bf8ce64-4106-4d0a-b6da-3bd9a4c463e7",
   "metadata": {},
   "outputs": [],
   "source": [
    "def activity_Selection(Activities):\n",
    "    Activities.sort(key= lambda x: x[2])\n",
    "    print(Activities)\n",
    "    \n",
    "    i= 0\n",
    "    first_act = Activities[0]\n",
    "    \n",
    "    for j in range(len(Activities)):\n",
    "        if Activities[i][2]< Activities[j][1]:\n",
    "            print(Activities[j][0])\n",
    "            i= j"
   ]
  },
  {
   "cell_type": "code",
   "execution_count": 17,
   "id": "dd0505c5-1a58-476d-88d8-36544ac51425",
   "metadata": {},
   "outputs": [],
   "source": [
    "Activities= [[\"A\", 0,6],[\"B\", 3,4],[\"C\", 1,2],[\"D\", 5,8],[\"E\", 5,7],[\"F\", 8,9]]"
   ]
  },
  {
   "cell_type": "code",
   "execution_count": 18,
   "id": "fb838901-814e-42a2-9ce0-c0e561dba68e",
   "metadata": {},
   "outputs": [
    {
     "name": "stdout",
     "output_type": "stream",
     "text": [
      "[['C', 1, 2], ['B', 3, 4], ['A', 0, 6], ['E', 5, 7], ['D', 5, 8], ['F', 8, 9]]\n",
      "B\n",
      "E\n",
      "F\n"
     ]
    }
   ],
   "source": [
    "activity_Selection(Activities)"
   ]
  },
  {
   "cell_type": "code",
   "execution_count": 31,
   "id": "17d188b3-fecd-4248-8593-e3ef7f6531c0",
   "metadata": {},
   "outputs": [],
   "source": [
    "def set_Coin(Num, coins):\n",
    "    coins.sort()\n",
    "    index= len(coins)-1\n",
    "    \n",
    "    while True:\n",
    "        if Num>= coins[index]:\n",
    "            Num -= coins[index]\n",
    "            print(coins[index])\n",
    "\n",
    "            \n",
    "            \n",
    "        else: \n",
    "            index -= 1\n",
    "        if Num== 0:\n",
    "            break\n",
    "            \n",
    "            "
   ]
  },
  {
   "cell_type": "code",
   "execution_count": 32,
   "id": "1a2532fd-cecb-40f4-ac3f-09697b5aeff6",
   "metadata": {},
   "outputs": [
    {
     "name": "stdout",
     "output_type": "stream",
     "text": [
      "50\n",
      "50\n"
     ]
    }
   ],
   "source": [
    "set_Coin(100,[50,20,10,5])"
   ]
  },
  {
   "cell_type": "code",
   "execution_count": 33,
   "id": "337cc195-7529-465a-97f7-d1bd6bc5bd6c",
   "metadata": {},
   "outputs": [
    {
     "name": "stdout",
     "output_type": "stream",
     "text": [
      "25\n",
      "25\n",
      "25\n",
      "25\n"
     ]
    }
   ],
   "source": [
    "set_Coin(100,[25,20,10,5])"
   ]
  },
  {
   "cell_type": "code",
   "execution_count": 35,
   "id": "53e1f12d-3a6e-40a8-bccb-541b635b2a86",
   "metadata": {},
   "outputs": [
    {
     "name": "stdout",
     "output_type": "stream",
     "text": [
      "27\n",
      "27\n",
      "27\n",
      "13\n",
      "5\n",
      "1\n"
     ]
    }
   ],
   "source": [
    "set_Coin(100,[13,27,10,5,1])"
   ]
  },
  {
   "cell_type": "code",
   "execution_count": 40,
   "id": "c8875b4f-186b-4575-97e8-64d72e7d4818",
   "metadata": {},
   "outputs": [],
   "source": [
    "class Item:\n",
    "    def __init__(self, weight, value):\n",
    "        self.weight= weight\n",
    "        self.value= value\n",
    "        self.ratio= self.value/self.weight\n",
    "        "
   ]
  },
  {
   "cell_type": "code",
   "execution_count": 88,
   "id": "f9a04bdd-1ab7-42cb-bdcb-c6c362db6079",
   "metadata": {},
   "outputs": [],
   "source": [
    "item1 = Item(20,100)\n",
    "item2 = Item(30,120)\n",
    "item3 = Item(10,60)\n",
    "item4 = Item(18,60)\n",
    "cList = [item1, item2, item3,item4]\n",
    "\n"
   ]
  },
  {
   "cell_type": "code",
   "execution_count": 89,
   "id": "6c7b05dc-2311-4b0b-8305-f00517ee9520",
   "metadata": {},
   "outputs": [
    {
     "data": {
      "text/plain": [
       "5.0"
      ]
     },
     "execution_count": 89,
     "metadata": {},
     "output_type": "execute_result"
    }
   ],
   "source": [
    "item1.ratio"
   ]
  },
  {
   "cell_type": "code",
   "execution_count": 94,
   "id": "53ebef0a-962b-42e0-9f02-14b27650a3f7",
   "metadata": {},
   "outputs": [],
   "source": [
    "def frac_knapsack(clist, capacity):\n",
    "    used_cap= 0\n",
    "    \n",
    "    clist.sort(key= lambda x: x.ratio, reverse= True)\n",
    "#     print(clist)\n",
    "    \n",
    "    print(clist[0].ratio)\n",
    "    print(clist[1].ratio)\n",
    "    print(clist[2].ratio)\n",
    "    print(clist[3].ratio)\n",
    "    \n",
    "    unused_cap=0\n",
    "    value= 0\n",
    "    i=0 \n",
    "    for item in clist:\n",
    "        \n",
    "        if item.weight + used_cap <= capacity:\n",
    "            \n",
    "            used_cap += item.weight\n",
    "            unused_cap= capacity-used_cap\n",
    "            print(\"Used Cap is: \", used_cap)\n",
    "            print(\"Unused Cap is: \", unused_cap)\n",
    "            value += item.value\n",
    "            print(\"Value is now: \", value)\n",
    "            i += 1\n",
    "            print(f\"The highest val/weight ratio at pos {i} is completely utilised now\")\n",
    "            \n",
    "    \n",
    "        elif used_cap + item.weight > capacity:\n",
    "            value +=  unused_cap*item.ratio\n",
    "            c= unused_cap\n",
    "            used_cap += unused_cap\n",
    "            unused_cap -= unused_cap\n",
    "#             unused_cap =0\n",
    "            i += 1\n",
    "            print(f\"The last item {i} to be used is used in porportion: \", c/item.weight)\n",
    "            \n",
    "    print(\"Total value obtained: \"+str(value))        \n",
    "            \n",
    "            \n",
    "    return value, used_cap, unused_cap\n",
    "            \n",
    "    \n",
    "    \n",
    "    \n",
    "\n",
    "            \n",
    "    \n",
    "    "
   ]
  },
  {
   "cell_type": "code",
   "execution_count": 95,
   "id": "a885a18c-99c3-4a0a-b47e-95f7ee7e3700",
   "metadata": {},
   "outputs": [
    {
     "name": "stdout",
     "output_type": "stream",
     "text": [
      "6.0\n",
      "5.0\n",
      "4.0\n",
      "3.3333333333333335\n",
      "Used Cap is:  10\n",
      "Unused Cap is:  40\n",
      "Value is now:  60\n",
      "The highest val/weight ratio at pos 1 is completely utilised now\n",
      "Used Cap is:  30\n",
      "Unused Cap is:  20\n",
      "Value is now:  160\n",
      "The highest val/weight ratio at pos 2 is completely utilised now\n",
      "The last item 3 to be used is used in porportion:  0.6666666666666666\n",
      "The last item 4 to be used is used in porportion:  0.0\n",
      "Total value obtained: 240.0\n"
     ]
    },
    {
     "data": {
      "text/plain": [
       "(240.0, 50, 0)"
      ]
     },
     "execution_count": 95,
     "metadata": {},
     "output_type": "execute_result"
    }
   ],
   "source": [
    "frac_knapsack(cList, 50)"
   ]
  },
  {
   "cell_type": "code",
   "execution_count": null,
   "id": "5006e2cd-81b7-425b-9ff5-71bdd5be0f57",
   "metadata": {},
   "outputs": [],
   "source": []
  },
  {
   "cell_type": "code",
   "execution_count": 96,
   "id": "5c1aedbd-f791-4285-981b-1f6aaf7cd195",
   "metadata": {},
   "outputs": [],
   "source": [
    "def merge(arr, l, m ,r):\n",
    "    n1= m-l+1\n",
    "    n2= r-m\n",
    "    \n",
    "    L= [0]* n1\n",
    "    R= [0]* n2\n",
    "    \n",
    "    for i in range(n1):\n",
    "        L[i]= arr[i+l]\n",
    "        \n",
    "    for j in range(n2):\n",
    "        R[j]= arr[m+j+1]\n",
    "        \n",
    "        \n",
    "    i= 0\n",
    "    j= 0\n",
    "    k= l\n",
    "    \n",
    "    while i<n1 and j<n2:\n",
    "        if L[i]<=R[j]:\n",
    "            arr[k]= L[i]\n",
    "            \n",
    "            i +=1\n",
    "        elif L[i]>R[j]:\n",
    "            arr[k]= R[j]\n",
    "            \n",
    "            j+=1\n",
    "        k += 1\n",
    "        \n",
    "    while i<n1:\n",
    "        arr[k]=L[i]\n",
    "        i+=1\n",
    "        k+=1\n",
    "        \n",
    "    while j<n2:\n",
    "        arr[k]= R[j]\n",
    "        j += 1\n",
    "        k +=1\n",
    "\n",
    "            \n",
    "    return arr "
   ]
  },
  {
   "cell_type": "code",
   "execution_count": 117,
   "id": "35430564-f3e3-4914-9d47-79f90f9833f8",
   "metadata": {},
   "outputs": [],
   "source": [
    "def merge_sort(arr,l,r):\n",
    "    print(l,r)\n",
    "    if l<r:\n",
    "        m= l+ (r-l)//2\n",
    "        merge_sort(arr,l,m)\n",
    "        print(m+1,r)\n",
    "        merge_sort(arr,m+1,r)\n",
    "        \n",
    "        print(l,m,r)\n",
    "        merge(arr,l,m,r)\n",
    "        \n",
    "    else: return"
   ]
  },
  {
   "cell_type": "code",
   "execution_count": 116,
   "id": "c835c290-5377-4c15-aeb1-4a5d027f10e3",
   "metadata": {},
   "outputs": [
    {
     "name": "stdout",
     "output_type": "stream",
     "text": [
      "0 2\n",
      "0 1\n",
      "0 0\n",
      "1 1\n",
      "1 1\n",
      "0 0 1\n",
      "2 2\n",
      "2 2\n",
      "0 1 2\n"
     ]
    }
   ],
   "source": [
    "clist= [1,3,5]\n",
    "merge_sort(clist,0, len(clist)-1)"
   ]
  },
  {
   "cell_type": "code",
   "execution_count": 109,
   "id": "cf4174e6-ccd1-4429-bf5d-38b10e1fbf39",
   "metadata": {},
   "outputs": [
    {
     "data": {
      "text/plain": [
       "[1, 3, 5]"
      ]
     },
     "execution_count": 109,
     "metadata": {},
     "output_type": "execute_result"
    }
   ],
   "source": [
    "clist"
   ]
  },
  {
   "cell_type": "code",
   "execution_count": null,
   "id": "85193c3f-eaa0-4243-894d-8f05ec52d1a3",
   "metadata": {},
   "outputs": [],
   "source": []
  }
 ],
 "metadata": {
  "kernelspec": {
   "display_name": "Python 3",
   "language": "python",
   "name": "python3"
  },
  "language_info": {
   "codemirror_mode": {
    "name": "ipython",
    "version": 3
   },
   "file_extension": ".py",
   "mimetype": "text/x-python",
   "name": "python",
   "nbconvert_exporter": "python",
   "pygments_lexer": "ipython3",
   "version": "3.8.5"
  }
 },
 "nbformat": 4,
 "nbformat_minor": 5
}
