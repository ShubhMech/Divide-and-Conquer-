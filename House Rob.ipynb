{
 "cells": [
  {
   "cell_type": "code",
   "execution_count": 5,
   "id": "0393eacc-1d36-477e-bcae-92c4e1a6926d",
   "metadata": {},
   "outputs": [],
   "source": [
    "def rob_House(houses, index_):\n",
    "    if index_< len(houses):\n",
    "        for i in range(len(houses)):\n",
    "            first_rob_val= houses[index_] + rob_House(houses,index_+2)\n",
    "            sec_rob_val= rob_House(houses,index_+1)\n",
    "            \n",
    "    else:\n",
    "        return 0\n",
    "    \n",
    "    return max(first_rob_val, sec_rob_val)\n",
    "        "
   ]
  },
  {
   "cell_type": "code",
   "execution_count": 8,
   "id": "8f0d1f32-7155-4dcc-b049-9a2e62e1b097",
   "metadata": {},
   "outputs": [
    {
     "data": {
      "text/plain": [
       "14"
      ]
     },
     "execution_count": 8,
     "metadata": {},
     "output_type": "execute_result"
    }
   ],
   "source": [
    "rob_House([4,6,3,8],0)"
   ]
  },
  {
   "cell_type": "code",
   "execution_count": null,
   "id": "5ccd2b56-6bd9-40a2-9def-d19db3e52b5c",
   "metadata": {},
   "outputs": [],
   "source": []
  }
 ],
 "metadata": {
  "kernelspec": {
   "display_name": "Python 3",
   "language": "python",
   "name": "python3"
  },
  "language_info": {
   "codemirror_mode": {
    "name": "ipython",
    "version": 3
   },
   "file_extension": ".py",
   "mimetype": "text/x-python",
   "name": "python",
   "nbconvert_exporter": "python",
   "pygments_lexer": "ipython3",
   "version": "3.8.5"
  }
 },
 "nbformat": 4,
 "nbformat_minor": 5
}
