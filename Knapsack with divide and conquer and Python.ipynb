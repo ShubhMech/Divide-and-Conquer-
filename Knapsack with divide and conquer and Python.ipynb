{
 "cells": [
  {
   "cell_type": "code",
   "execution_count": 42,
   "id": "1d807c03-1eaf-4c67-884a-e6b8a54c3e2e",
   "metadata": {},
   "outputs": [],
   "source": [
    "class Zero_one_knapsack:\n",
    "    \n",
    "    def __init__(self, profit,weight):\n",
    "        self.weight= weight\n",
    "        self.profit= profit\n",
    "        \n",
    "Item1= Zero_one_knapsack(312,30)\n",
    "Item2=Zero_one_knapsack(261,19)\n",
    "Item3=Zero_one_knapsack(173,29)\n",
    "        \n",
    "def knap(items, capacity):\n",
    "    \n",
    "    profits= 0\n",
    "    items.sort(key= lambda x: (x.profit/x.weight), reverse=True)\n",
    "    \n",
    "    for i in range(len(items)):\n",
    "    \n",
    "        if capacity-items[i].weight>0:\n",
    "            profits += items[i].profit\n",
    "            capacity -= items[i].weight\n",
    "            print(\"The remaining capacity is: \", capacity)\n",
    "            print(f\"The item included has a weight of {items[i].weight} and profit of {items[i].profit}\")\n",
    "        else:\n",
    "            break\n",
    "            \n",
    "    return profits, capacity"
   ]
  },
  {
   "cell_type": "code",
   "execution_count": 44,
   "id": "c1feeda3-2143-4347-b4b8-8fe05c8ad4c2",
   "metadata": {},
   "outputs": [
    {
     "name": "stdout",
     "output_type": "stream",
     "text": [
      "The remaining capacity is:  31\n",
      "The item included has a weight of 19 and profit of 261\n",
      "The remaining capacity is:  1\n",
      "The item included has a weight of 30 and profit of 312\n"
     ]
    },
    {
     "data": {
      "text/plain": [
       "(573, 1)"
      ]
     },
     "execution_count": 44,
     "metadata": {},
     "output_type": "execute_result"
    }
   ],
   "source": [
    "items=[Item1,Item2, Item3]\n",
    "knap(items,50)"
   ]
  },
  {
   "cell_type": "code",
   "execution_count": 32,
   "id": "981fa28f-9baf-487b-ba0d-d71d0001d1a2",
   "metadata": {},
   "outputs": [
    {
     "data": {
      "text/plain": [
       "26.0"
      ]
     },
     "execution_count": 32,
     "metadata": {},
     "output_type": "execute_result"
    }
   ],
   "source": [
    "items[0].profit/items[0].weight"
   ]
  },
  {
   "cell_type": "code",
   "execution_count": 33,
   "id": "9a9bcca8-d36c-45c8-a7cd-510c7bc5d6ea",
   "metadata": {},
   "outputs": [
    {
     "data": {
      "text/plain": [
       "10.333333333333334"
      ]
     },
     "execution_count": 33,
     "metadata": {},
     "output_type": "execute_result"
    }
   ],
   "source": [
    "items[1].profit/items[1].weight"
   ]
  },
  {
   "cell_type": "code",
   "execution_count": 34,
   "id": "10ebe1c2-a512-4aae-96d1-a4f356b09d8c",
   "metadata": {},
   "outputs": [
    {
     "data": {
      "text/plain": [
       "8.5"
      ]
     },
     "execution_count": 34,
     "metadata": {},
     "output_type": "execute_result"
    }
   ],
   "source": [
    "items[2].profit/items[2].weight"
   ]
  },
  {
   "cell_type": "code",
   "execution_count": 76,
   "id": "5e561df3-8538-4228-982d-556f16fe5d0c",
   "metadata": {},
   "outputs": [
    {
     "data": {
      "text/plain": [
       "98"
      ]
     },
     "execution_count": 76,
     "metadata": {},
     "output_type": "execute_result"
    }
   ],
   "source": [
    "class Item:\n",
    "    \n",
    "    def __init__(self, profit,weight):\n",
    "        self.weight= weight\n",
    "        self.profit= profit\n",
    "        \n",
    "mango = Item(31, 3)\n",
    "apple = Item(26, 1)\n",
    "orange = Item(17, 2)\n",
    "banana = Item(72, 5)\n",
    "\n",
    "items = [mango, apple, orange, banana]\n",
    "        \n",
    "def knap(items, capacity, index):\n",
    "    if capacity<=0 or index>= len(items):\n",
    "#         print(\"True\")\n",
    "        return  0\n",
    "    \n",
    "    elif capacity>=items[index].weight:\n",
    "#         profits += items[index].profit\n",
    "#         capacity -= items[index].weight\n",
    "        profit1= items[index].profit + knap(items, capacity- items[index].weight,index+1)\n",
    "        profit2= knap(items, capacity,index+1)\n",
    "        return max(profit1, profit2)\n",
    "    else:\n",
    "        return 0 \n",
    "\n",
    "    \n",
    "knap(items,7,0)\n",
    "\n",
    "\n",
    "\n",
    "\n",
    "\n",
    "\n"
   ]
  },
  {
   "cell_type": "code",
   "execution_count": null,
   "id": "36261e1e-9ee4-42cc-a3fc-5dc1b291901f",
   "metadata": {},
   "outputs": [],
   "source": []
  }
 ],
 "metadata": {
  "kernelspec": {
   "display_name": "Python 3",
   "language": "python",
   "name": "python3"
  },
  "language_info": {
   "codemirror_mode": {
    "name": "ipython",
    "version": 3
   },
   "file_extension": ".py",
   "mimetype": "text/x-python",
   "name": "python",
   "nbconvert_exporter": "python",
   "pygments_lexer": "ipython3",
   "version": "3.8.5"
  }
 },
 "nbformat": 4,
 "nbformat_minor": 5
}
