{
 "cells": [
  {
   "cell_type": "code",
   "execution_count": 42,
   "id": "1d807c03-1eaf-4c67-884a-e6b8a54c3e2e",
   "metadata": {},
   "outputs": [],
   "source": [
    "class Zero_one_knapsack:\n",
    "    \n",
    "    def __init__(self, profit,weight):\n",
    "        self.weight= weight\n",
    "        self.profit= profit\n",
    "        \n",
    "Item1= Zero_one_knapsack(312,30)\n",
    "Item2=Zero_one_knapsack(261,19)\n",
    "Item3=Zero_one_knapsack(173,29)\n",
    "        \n",
    "def knap(items, capacity):\n",
    "    \n",
    "    profits= 0\n",
    "    items.sort(key= lambda x: (x.profit/x.weight), reverse=True)\n",
    "    \n",
    "    for i in range(len(items)):\n",
    "    \n",
    "        if capacity-items[i].weight>0:\n",
    "            profits += items[i].profit\n",
    "            capacity -= items[i].weight\n",
    "            print(\"The remaining capacity is: \", capacity)\n",
    "            print(f\"The item included has a weight of {items[i].weight} and profit of {items[i].profit}\")\n",
    "        else:\n",
    "            break\n",
    "            \n",
    "    return profits, capacity"
   ]
  },
  {
   "cell_type": "code",
   "execution_count": 44,
   "id": "c1feeda3-2143-4347-b4b8-8fe05c8ad4c2",
   "metadata": {},
   "outputs": [
    {
     "name": "stdout",
     "output_type": "stream",
     "text": [
      "The remaining capacity is:  31\n",
      "The item included has a weight of 19 and profit of 261\n",
      "The remaining capacity is:  1\n",
      "The item included has a weight of 30 and profit of 312\n"
     ]
    },
    {
     "data": {
      "text/plain": [
       "(573, 1)"
      ]
     },
     "execution_count": 44,
     "metadata": {},
     "output_type": "execute_result"
    }
   ],
   "source": [
    "items=[Item1,Item2, Item3]\n",
    "knap(items,50)"
   ]
  },
  {
   "cell_type": "code",
   "execution_count": 32,
   "id": "981fa28f-9baf-487b-ba0d-d71d0001d1a2",
   "metadata": {},
   "outputs": [
    {
     "data": {
      "text/plain": [
       "26.0"
      ]
     },
     "execution_count": 32,
     "metadata": {},
     "output_type": "execute_result"
    }
   ],
   "source": [
    "items[0].profit/items[0].weight"
   ]
  },
  {
   "cell_type": "code",
   "execution_count": 33,
   "id": "9a9bcca8-d36c-45c8-a7cd-510c7bc5d6ea",
   "metadata": {},
   "outputs": [
    {
     "data": {
      "text/plain": [
       "10.333333333333334"
      ]
     },
     "execution_count": 33,
     "metadata": {},
     "output_type": "execute_result"
    }
   ],
   "source": [
    "items[1].profit/items[1].weight"
   ]
  },
  {
   "cell_type": "code",
   "execution_count": 34,
   "id": "10ebe1c2-a512-4aae-96d1-a4f356b09d8c",
   "metadata": {},
   "outputs": [
    {
     "data": {
      "text/plain": [
       "8.5"
      ]
     },
     "execution_count": 34,
     "metadata": {},
     "output_type": "execute_result"
    }
   ],
   "source": [
    "items[2].profit/items[2].weight"
   ]
  },
  {
   "cell_type": "code",
   "execution_count": 76,
   "id": "5e561df3-8538-4228-982d-556f16fe5d0c",
   "metadata": {},
   "outputs": [
    {
     "data": {
      "text/plain": [
       "98"
      ]
     },
     "execution_count": 76,
     "metadata": {},
     "output_type": "execute_result"
    }
   ],
   "source": [
    "class Item:\n",
    "    \n",
    "    def __init__(self, profit,weight):\n",
    "        self.weight= weight\n",
    "        self.profit= profit\n",
    "        \n",
    "mango = Item(31, 3)\n",
    "apple = Item(26, 1)\n",
    "orange = Item(17, 2)\n",
    "banana = Item(72, 5)\n",
    "\n",
    "items = [mango, apple, orange, banana]\n",
    "        \n",
    "def knap(items, capacity, index):\n",
    "    if capacity<=0 or index>= len(items):\n",
    "#         print(\"True\")\n",
    "        return  0\n",
    "    \n",
    "    elif capacity>=items[index].weight:\n",
    "#         profits += items[index].profit\n",
    "#         capacity -= items[index].weight\n",
    "        profit1= items[index].profit + knap(items, capacity- items[index].weight,index+1)\n",
    "        profit2= knap(items, capacity,index+1)\n",
    "        return max(profit1, profit2)\n",
    "    else:\n",
    "        return 0 \n",
    "\n",
    "    \n",
    "knap(items,7,0)\n",
    "\n",
    "\n",
    "\n",
    "\n",
    "\n",
    "\n"
   ]
  },
  {
   "cell_type": "code",
   "execution_count": 82,
   "id": "36261e1e-9ee4-42cc-a3fc-5dc1b291901f",
   "metadata": {},
   "outputs": [
    {
     "name": "stdout",
     "output_type": "stream",
     "text": [
      "Length of LCS is  5\n"
     ]
    }
   ],
   "source": [
    "def lcs(X , Y):\n",
    "\n",
    "    m = len(X)\n",
    "    n = len(Y)\n",
    " \n",
    "\n",
    "    L = [[None]*(n+1) for i in range(m+1)]\n",
    "\n",
    "    for i in range(m+1):\n",
    "        for j in range(n+1):\n",
    "            if i == 0 or j == 0 :\n",
    "                L[i][j] = 0\n",
    "            elif X[i-1] == Y[j-1]:\n",
    "                L[i][j] = L[i-1][j-1]+1\n",
    "            else:\n",
    "                L[i][j] = max(L[i-1][j] , L[i][j-1])\n",
    "\n",
    "    return L[m][n]\n",
    "\n",
    " \n",
    " \n",
    "\n",
    "X = \"AGGTeAB\"\n",
    "Y = \"GXTeXAYB\"\n",
    "print (\"Length of LCS is \", lcs(X, Y) )"
   ]
  },
  {
   "cell_type": "code",
   "execution_count": null,
   "id": "df52c340-7078-4b12-b9ae-fde502eb5063",
   "metadata": {},
   "outputs": [],
   "source": []
  },
  {
   "cell_type": "code",
   "execution_count": 89,
   "id": "e1ddb100-fe30-4828-b7ff-8b1e00e78498",
   "metadata": {},
   "outputs": [],
   "source": [
    "class Min_Cost:\n",
    "    def __init__(self, row, col, mat):\n",
    "        self.row= row\n",
    "        self.col= col\n",
    "        self.mat= mat\n",
    "    \n",
    "    def cost(self,row, col, mat):\n",
    "        if self.col== 0 or self.row == 0:\n",
    "            return self.mat[self.row][self.col]\n",
    "        else:\n",
    "            min_= min(self.cost(self.row-1,self.col), self.cost(self.row, self.col-1), self.mat)\n",
    "            cost= self.mat[self.row][self.col] + min_"
   ]
  },
  {
   "cell_type": "code",
   "execution_count": 90,
   "id": "3bdbb550-f772-41fe-8e61-1cbbfd028ff8",
   "metadata": {},
   "outputs": [],
   "source": [
    "mat= [[3,4,5],[4,5,6],[6,7,8]]"
   ]
  },
  {
   "cell_type": "code",
   "execution_count": 91,
   "id": "c87ddffc-3598-48bd-9a17-d9d1a3b7b6a9",
   "metadata": {},
   "outputs": [
    {
     "data": {
      "text/plain": [
       "<__main__.Min_Cost at 0x1e98728a310>"
      ]
     },
     "execution_count": 91,
     "metadata": {},
     "output_type": "execute_result"
    }
   ],
   "source": [
    "Min_Cost(2,2,mat)"
   ]
  },
  {
   "cell_type": "code",
   "execution_count": 109,
   "id": "f1ead136-7025-4b1d-8d77-013b999979cd",
   "metadata": {},
   "outputs": [],
   "source": [
    "def cost(row, col, mat):\n",
    "#     cost= 0\n",
    "    if col< 0 or row< 0:\n",
    "        return float('inf')\n",
    "    if col== 0 and row == 0:\n",
    "        return mat[row][col]\n",
    "    else:\n",
    "        min1= cost(row-1, col, mat)\n",
    "        min2= cost(row, col-1,mat)\n",
    "        \n",
    "        return mat[row][col]+min(min1,min2)"
   ]
  },
  {
   "cell_type": "code",
   "execution_count": 110,
   "id": "25fb3ad7-caf9-4d03-8f68-ec5f8f8af7bd",
   "metadata": {},
   "outputs": [
    {
     "data": {
      "text/plain": [
       "7"
      ]
     },
     "execution_count": 110,
     "metadata": {},
     "output_type": "execute_result"
    }
   ],
   "source": [
    "cost(1,0,mat)"
   ]
  },
  {
   "cell_type": "code",
   "execution_count": null,
   "id": "2ed20500-bc88-4f3d-be78-2c3bcf4846b8",
   "metadata": {},
   "outputs": [],
   "source": []
  }
 ],
 "metadata": {
  "kernelspec": {
   "display_name": "Python 3",
   "language": "python",
   "name": "python3"
  },
  "language_info": {
   "codemirror_mode": {
    "name": "ipython",
    "version": 3
   },
   "file_extension": ".py",
   "mimetype": "text/x-python",
   "name": "python",
   "nbconvert_exporter": "python",
   "pygments_lexer": "ipython3",
   "version": "3.8.5"
  }
 },
 "nbformat": 4,
 "nbformat_minor": 5
}
